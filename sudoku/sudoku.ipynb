{
 "cells": [
  {
   "cell_type": "markdown",
   "metadata": {},
   "source": [
    "Copyright **`(c)`** 2021 Giovanni Squillero `<squillero@polito.it>`  \n",
    "`https://github.com/squillero/computational-intelligence`  \n",
    "Free for personal or classroom use; see 'LICENCE.md' for details."
   ]
  },
  {
   "cell_type": "code",
   "execution_count": 3,
   "metadata": {},
   "outputs": [],
   "source": [
    "import logging\n",
    "from collections import deque\n",
    "from pprint import pprint\n",
    "import numpy as np\n",
    "\n",
    "logging.basicConfig(format='[%(asctime)s] %(levelname)s: %(message)s', datefmt='%H:%M:%S', level=logging.INFO)"
   ]
  },
  {
   "cell_type": "code",
   "execution_count": 4,
   "metadata": {},
   "outputs": [],
   "source": [
    "def _contains_duplicates(X):\n",
    "    return np.sum(np.unique(X)) != np.sum(X)\n",
    "\n",
    "def contains_duplicates(sol):\n",
    "    return any(_contains_duplicates(sol[r,:]) for r in range(9)) or \\\n",
    "           any(_contains_duplicates(sol[:,r]) for r in range(9)) or \\\n",
    "           any(_contains_duplicates(sol[r:r+3:,c:c+3]) for r in range(0,9,3) for c in range(0,9,3))\n",
    "\n",
    "def valid_solution(sol):\n",
    "    return not contains_duplicates(sol) and np.sum(sol) == (1+2+3+4+5+6+7+8+9) * 9\n",
    "\n",
    "def print_sudoku(sudoku):\n",
    "    print(\"+-------+-------+-------+\")\n",
    "    for b in range(0, 9, 3):\n",
    "        for r in range(3):\n",
    "            print(\"|\", \" | \".join(\" \".join(str(_) for _ in sudoku[b+r, c:c+3]) for c in range(0, 9, 3)), \"|\")\n",
    "        print(\"+-------+-------+-------+\")"
   ]
  },
  {
   "cell_type": "code",
   "execution_count": 5,
   "metadata": {},
   "outputs": [],
   "source": [
    "def dfsolve(sudoku):\n",
    "    \"\"\"Vanilla depth-first solver for sudoku puzzles\"\"\"\n",
    "    frontier = deque([sudoku.copy()])\n",
    "    num_nodes = 0\n",
    "    while frontier:\n",
    "        node = frontier.popleft()\n",
    "        num_nodes += 1\n",
    "\n",
    "        if valid_solution(node):\n",
    "            logging.info(f\"Solved after expanding {num_nodes:,} nodes\")\n",
    "            return node\n",
    "\n",
    "        for i, j in zip(*np.where(node == 0)):\n",
    "            for c in range(1, 10):\n",
    "                node[i, j] = c\n",
    "                if not contains_duplicates(node):\n",
    "                    frontier.appendleft(node.copy())\n",
    "    logging.info(f\"Giving up after expanding {num_nodes:,} nodes\")\n",
    "    return None"
   ]
  },
  {
   "cell_type": "code",
   "execution_count": 6,
   "metadata": {},
   "outputs": [],
   "source": [
    "simple_sudoku = np.array([[6, 0, 4,    0, 7, 0,    0, 0, 1],\n",
    "                          [0, 5, 0,    0, 0, 0,    0, 7, 0], \n",
    "                          [7, 0, 0,    5, 9, 6,    8, 3, 4], \n",
    "       \n",
    "                          [0, 8, 0,    0, 0, 2,    4, 9, 0], \n",
    "                          [1, 0, 0,    0, 0, 0,    0, 0, 3], \n",
    "                          [0, 6, 9,    7, 0, 0,    0, 5, 0], \n",
    "       \n",
    "                          [9, 1, 8,    3, 6, 7,    0, 0, 5], \n",
    "                          [0, 4, 0,    0, 0, 0,    0, 6, 0], \n",
    "                          [2, 0, 0,    0, 5, 0,    7, 0, 8]], dtype=np.int8)"
   ]
  },
  {
   "cell_type": "code",
   "execution_count": 7,
   "metadata": {},
   "outputs": [],
   "source": [
    "def sudoku_generator(sudokus=1, *, kappa=5, random_seed=None):\n",
    "    if random_seed:\n",
    "        np.random.seed(random_seed)\n",
    "    for puzzle in range(sudokus):\n",
    "        sudoku = np.zeros((9, 9), dtype=np.int8)\n",
    "        for cell in range(np.random.randint(kappa)):\n",
    "            for p, val in zip(np.random.randint(0, 8, size=(9, 2)), range(1, 10)):\n",
    "                tmp = sudoku.copy()\n",
    "                sudoku[tuple(p)] = val\n",
    "                if contains_duplicates(sudoku):\n",
    "                    sudoku = tmp\n",
    "        yield sudoku.copy()"
   ]
  },
  {
   "cell_type": "code",
   "execution_count": 8,
   "metadata": {},
   "outputs": [],
   "source": [
    "def my_sudoku_solver(sudoku):\n",
    "    ''' \n",
    "    Author: @AleVersace (Alessandro Versace)\n",
    "\n",
    "    Computational Intelligence Lab1 @ Polytechnic University of Turin (PoliTo)\n",
    "\n",
    "    - Write a program that solves a sudoku in an efficient way \n",
    "\n",
    "    Approach: I decided to use a Depth-First Search starting solving the problem\n",
    "    selecting the \"most interesting\" empty cell (0s) to change at each step.\n",
    "    The \"Most Interesting\" is referred to the cell that has the lowest number \n",
    "    of available values that are good (not against the rules) at a certain step. \n",
    "    (As we humans usually proceed with the game)\n",
    "\n",
    "    So at each step the algorithm calculates the available values for each empty cell and selects\n",
    "    the cell with the lowest number of values. Then it expands the frontier using DF and proceeding\n",
    "    with the next step.\n",
    "\n",
    "    '''\n",
    "\n",
    "    frontier = deque()\n",
    "    frontier.append(sudoku.copy())\n",
    "\n",
    "    n = 0\n",
    "    while frontier:\n",
    "        n += 1\n",
    "        node = frontier.popleft()\n",
    "        \n",
    "        ## DEBUG\n",
    "        #print(sudoku1)\n",
    "        #print(len(frontier))\n",
    "        ## END\n",
    "\n",
    "        if valid_solution(node):\n",
    "            return n, node\n",
    "\n",
    "        b_i = -1;\n",
    "        b_j = -1;\n",
    "        best_available_values = None\n",
    "\n",
    "        # Check for next interesting position to go on with\n",
    "        for i, j in np.ndindex(node.shape):\n",
    "            if node[i, j] == 0:\n",
    "                # Computes available values that follows game rules for the empty cells\n",
    "                available_values = np.linspace(1, 9, 9, dtype=np.int8)\n",
    "                already_used = np.unique(np.concatenate((node[i, :], node[:, j], node[ (i//3*3) : (i//3*3+3) , (j//3*3) : (j//3*3+3)].flatten())))\n",
    "                available_values = set(available_values.flatten())\n",
    "                already_used = set(already_used.flatten())\n",
    "                available_values = np.array(list(available_values.difference(already_used)), dtype=np.int8)\n",
    "                \n",
    "                # Save position and values if is the lowest number of available values seen for this configuration\n",
    "                if best_available_values is None or (available_values.shape[0] < best_available_values.shape[0]):\n",
    "                    best_available_values = available_values\n",
    "                    b_i = i\n",
    "                    b_j = j\n",
    "\n",
    "        if best_available_values is None:\n",
    "            continue\n",
    "\n",
    "        # Expand Frontier\n",
    "        for v in best_available_values:\n",
    "\n",
    "            ## DEBUG\n",
    "            #print(f\"{best_available_values} in {b_i},{b_j}\\n\")\n",
    "            #print(f\"[v] = {v}\")\n",
    "            ## END\n",
    "\n",
    "            node[b_i, b_j] = v\n",
    "            new_config = np.copy(node)\n",
    "            frontier.appendleft(new_config)"
   ]
  },
  {
   "cell_type": "code",
   "execution_count": 9,
   "metadata": {},
   "outputs": [
    {
     "name": "stdout",
     "output_type": "stream",
     "text": [
      "+-------+-------+-------+\n",
      "| 0 0 1 | 0 0 0 | 0 0 0 |\n",
      "| 0 0 0 | 0 0 0 | 0 3 0 |\n",
      "| 0 0 6 | 8 0 0 | 5 2 0 |\n",
      "+-------+-------+-------+\n",
      "| 9 7 0 | 4 0 0 | 0 8 0 |\n",
      "| 6 0 0 | 0 3 0 | 1 0 0 |\n",
      "| 0 0 0 | 0 8 6 | 0 0 0 |\n",
      "+-------+-------+-------+\n",
      "| 0 4 0 | 9 0 0 | 0 0 0 |\n",
      "| 0 0 9 | 5 7 0 | 0 0 0 |\n",
      "| 0 0 0 | 0 0 0 | 0 0 0 |\n",
      "+-------+-------+-------+\n"
     ]
    },
    {
     "name": "stderr",
     "output_type": "stream",
     "text": [
      "[16:40:25] INFO: Solved after expanding 1,735 nodes\n"
     ]
    },
    {
     "name": "stdout",
     "output_type": "stream",
     "text": [
      "+-------+-------+-------+\n",
      "| 8 9 1 | 3 5 2 | 7 6 4 |\n",
      "| 7 5 2 | 6 4 1 | 9 3 8 |\n",
      "| 4 3 6 | 8 9 7 | 5 2 1 |\n",
      "+-------+-------+-------+\n",
      "| 9 7 3 | 4 1 5 | 6 8 2 |\n",
      "| 6 8 5 | 2 3 9 | 1 4 7 |\n",
      "| 2 1 4 | 7 8 6 | 3 9 5 |\n",
      "+-------+-------+-------+\n",
      "| 1 4 7 | 9 6 8 | 2 5 3 |\n",
      "| 3 2 9 | 5 7 4 | 8 1 6 |\n",
      "| 5 6 8 | 1 2 3 | 4 7 9 |\n",
      "+-------+-------+-------+\n"
     ]
    }
   ],
   "source": [
    "for sudoku in sudoku_generator(random_seed=42):\n",
    "    print_sudoku(sudoku)\n",
    "    solution = dfsolve(sudoku)\n",
    "    if solution is not None:\n",
    "        print_sudoku(solution)"
   ]
  },
  {
   "cell_type": "code",
   "execution_count": 10,
   "metadata": {},
   "outputs": [
    {
     "name": "stdout",
     "output_type": "stream",
     "text": [
      "+-------+-------+-------+\n",
      "| 0 0 1 | 0 0 0 | 0 0 0 |\n",
      "| 0 0 0 | 0 0 0 | 0 3 0 |\n",
      "| 0 0 6 | 8 0 0 | 5 2 0 |\n",
      "+-------+-------+-------+\n",
      "| 9 7 0 | 4 0 0 | 0 8 0 |\n",
      "| 6 0 0 | 0 3 0 | 1 0 0 |\n",
      "| 0 0 0 | 0 8 6 | 0 0 0 |\n",
      "+-------+-------+-------+\n",
      "| 0 4 0 | 9 0 0 | 0 0 0 |\n",
      "| 0 0 9 | 5 7 0 | 0 0 0 |\n",
      "| 0 0 0 | 0 0 0 | 0 0 0 |\n",
      "+-------+-------+-------+\n",
      "Whoa! Look how good I am, you can't beat me!\n",
      "Solved in 67 steps:\n",
      "+-------+-------+-------+\n",
      "| 2 9 1 | 6 5 3 | 4 7 8 |\n",
      "| 8 5 4 | 1 2 7 | 9 3 6 |\n",
      "| 7 3 6 | 8 9 4 | 5 2 1 |\n",
      "+-------+-------+-------+\n",
      "| 9 7 3 | 4 1 5 | 6 8 2 |\n",
      "| 6 2 8 | 7 3 9 | 1 5 4 |\n",
      "| 4 1 5 | 2 8 6 | 3 9 7 |\n",
      "+-------+-------+-------+\n",
      "| 3 4 7 | 9 6 2 | 8 1 5 |\n",
      "| 1 6 9 | 5 7 8 | 2 4 3 |\n",
      "| 5 8 2 | 3 4 1 | 7 6 9 |\n",
      "+-------+-------+-------+\n"
     ]
    }
   ],
   "source": [
    "# This is my solution. I separate it to check how fast is the computation.\n",
    "for sudoku in sudoku_generator(random_seed=42):\n",
    "    print_sudoku(sudoku)\n",
    "    \n",
    "    n, faster_solution = my_sudoku_solver(sudoku)\n",
    "    print(f\"Whoa! Look how good I am, you can't beat me!\\nSolved in {n} steps:\")\n",
    "    print_sudoku(faster_solution)"
   ]
  }
 ],
 "metadata": {
  "interpreter": {
   "hash": "31f2aee4e71d21fbe5cf8b01ff0e069b9275f58929596ceb00d14d90e3e16cd6"
  },
  "kernelspec": {
   "display_name": "Python 3.8.10 64-bit",
   "name": "python3"
  },
  "language_info": {
   "codemirror_mode": {
    "name": "ipython",
    "version": 3
   },
   "file_extension": ".py",
   "mimetype": "text/x-python",
   "name": "python",
   "nbconvert_exporter": "python",
   "pygments_lexer": "ipython3",
   "version": "3.8.10"
  },
  "orig_nbformat": 4
 },
 "nbformat": 4,
 "nbformat_minor": 2
}
